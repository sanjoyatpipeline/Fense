{
 "cells": [
  {
   "cell_type": "code",
   "execution_count": 1,
   "metadata": {},
   "outputs": [],
   "source": [
    "# import urllib3\n",
    "import pandas as pd\n",
    "import tldextract\n",
    "import datetime;\n",
    "import csv\n",
    "import requests\n",
    "import io\n",
    "import time\n",
    "import pandas as pd\n",
    "import os\n",
    "from os import listdir\n",
    "import getpass\n",
    "import sys \n",
    "from os.path import isfile, join,getmtime\n",
    "import json\n",
    "import urllib\n",
    "import urllib.parse\n",
    "import urllib.request\n",
    "\n",
    "import numpy as np\n",
    "import matplotlib as plt\n",
    "import seaborn as sns\n",
    "\n",
    "import psycopg2 \n",
    "import io\n",
    "import sql "
   ]
  },
  {
   "cell_type": "markdown",
   "metadata": {},
   "source": [
    "# Generate Hash Value From Domain / URL / File EXE or Others"
   ]
  },
  {
   "cell_type": "code",
   "execution_count": 2,
   "metadata": {},
   "outputs": [
    {
     "name": "stdout",
     "output_type": "stream",
     "text": [
      "The hexadecimal equivalent of hash is : aa214a637cbc230165d650afc69dac2e\n"
     ]
    }
   ],
   "source": [
    "import hashlib \n",
    "\n",
    "# initializing string \n",
    "str2hash = \"www.facebook.com/dfh/user\"\n",
    " \n",
    "result = hashlib.md5(str2hash.encode()) \n",
    "\n",
    "# printing the equivalent hexadecimal value. \n",
    "print(\"The hexadecimal equivalent of hash is : \", end =\"\") \n",
    "print(result.hexdigest()) "
   ]
  },
  {
   "cell_type": "code",
   "execution_count": 8,
   "metadata": {},
   "outputs": [
    {
     "name": "stdout",
     "output_type": "stream",
     "text": [
      "The SHA1 hash value generated ID is :  afdcdce8-6d2c-339a-bcf9-4cdf9dd65173\n",
      "The MD5 hash value generated ID is :  74aabd33-b86a-535b-9423-3bc87313a694\n"
     ]
    }
   ],
   "source": [
    "# Python3 code to demonstrate working   \n",
    "# of uuid3() and uuid5() \n",
    "import uuid \n",
    "  \n",
    "# initializing a string \n",
    "qualified_dns = \"www.facebook.com/dfh/user\"\n",
    "  \n",
    "# using NAMESPACE_DNS as namespace \n",
    "# to find MD5 hash id \n",
    "print (\"The SHA1 hash value generated ID is : \",  \n",
    "    uuid.uuid3(uuid.NAMESPACE_DNS, qualified_dns)) \n",
    "  \n",
    "# using NAMESPACE_DNS as namespace  \n",
    "# to generate SHA-1 hash id \n",
    "print (\"The MD5 hash value generated ID is : \",  \n",
    "    uuid.uuid5(uuid.NAMESPACE_DNS, qualified_dns)) "
   ]
  },
  {
   "cell_type": "markdown",
   "metadata": {},
   "source": [
    "# Generate Hash Value From Domain / URL / File EXE or Others"
   ]
  },
  {
   "cell_type": "code",
   "execution_count": 14,
   "metadata": {},
   "outputs": [],
   "source": [
    "import hashlib\n",
    "\n",
    "# encode it to bytes using UTF-8 encoding\n",
    "message = \"google.com\".encode()"
   ]
  },
  {
   "cell_type": "code",
   "execution_count": 15,
   "metadata": {},
   "outputs": [
    {
     "name": "stdout",
     "output_type": "stream",
     "text": [
      "MD5: 1d5920f4b44b27a802bd77c4f0536f5a\n"
     ]
    }
   ],
   "source": [
    "# hash with MD5 (not recommended)\n",
    "print(\"MD5:\", hashlib.md5(message).hexdigest())"
   ]
  },
  {
   "cell_type": "code",
   "execution_count": 16,
   "metadata": {},
   "outputs": [
    {
     "name": "stdout",
     "output_type": "stream",
     "text": [
      "SHA-256: d4c9d9027326271a89ce51fcaf328ed673f17be33469ff979e8ab8dd501e664f\n",
      "SHA-512: a5b5955a4db31736f9dfd45c89c12331e0370074fc7fec0ac4d189a62391bf7060287f957ce67cf3adcac7a4353a7a8241e33084a9b543cbb3f39770970a41b2\n"
     ]
    }
   ],
   "source": [
    "# hash with SHA-2 (SHA-256 & SHA-512)\n",
    "print(\"SHA-256:\", hashlib.sha256(message).hexdigest())\n",
    "\n",
    "print(\"SHA-512:\", hashlib.sha512(message).hexdigest())"
   ]
  },
  {
   "cell_type": "code",
   "execution_count": 17,
   "metadata": {},
   "outputs": [
    {
     "name": "stdout",
     "output_type": "stream",
     "text": [
      "SHA-3-256: 28325c7b8320a247a6dc6e9afe0520a4a124c0b26d5a006a2206f8ab8ed7e6f4\n",
      "SHA-3-512: d7eec495fa1bab55f5da5b6a20c8202dc59f016dde895ca075f103de96273da7407099a397423d4c19dbd95db1309a08f613cbea2a0d57f07eeae72a2183a5d8\n"
     ]
    }
   ],
   "source": [
    "# hash with SHA-3\n",
    "print(\"SHA-3-256:\", hashlib.sha3_256(message).hexdigest())\n",
    "\n",
    "print(\"SHA-3-512:\", hashlib.sha3_512(message).hexdigest())"
   ]
  },
  {
   "cell_type": "code",
   "execution_count": 18,
   "metadata": {},
   "outputs": [
    {
     "name": "stdout",
     "output_type": "stream",
     "text": [
      "BLAKE2c: a4b71378428193c7e9b8f10290142121268203166888f72ae8ae12cc9c3a3bb6\n",
      "BLAKE2b: 460797dfd1fd30d4668d293e0c6155922020cd35cd2de7ec8413eeb1293c38f1398e8737aba9038f99ff2905ba3dcd942f5ae4a485b02fe739c7169916f8117c\n"
     ]
    }
   ],
   "source": [
    "# hash with BLAKE2\n",
    "# 256-bit BLAKE2 (or BLAKE2s)\n",
    "print(\"BLAKE2c:\", hashlib.blake2s(message).hexdigest())\n",
    "# 512-bit BLAKE2 (or BLAKE2b)\n",
    "print(\"BLAKE2b:\", hashlib.blake2b(message).hexdigest())"
   ]
  },
  {
   "cell_type": "code",
   "execution_count": null,
   "metadata": {},
   "outputs": [],
   "source": []
  }
 ],
 "metadata": {
  "kernelspec": {
   "display_name": "Python 3",
   "language": "python",
   "name": "python3"
  },
  "language_info": {
   "codemirror_mode": {
    "name": "ipython",
    "version": 3
   },
   "file_extension": ".py",
   "mimetype": "text/x-python",
   "name": "python",
   "nbconvert_exporter": "python",
   "pygments_lexer": "ipython3",
   "version": "3.7.4"
  }
 },
 "nbformat": 4,
 "nbformat_minor": 2
}
