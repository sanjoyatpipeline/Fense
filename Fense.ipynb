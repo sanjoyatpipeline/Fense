{
 "cells": [
  {
   "cell_type": "code",
   "execution_count": 1,
   "metadata": {},
   "outputs": [],
   "source": [
    "# import urllib3\n",
    "import pandas as pd\n",
    "import tldextract\n",
    "import datetime;\n",
    "import csv\n",
    "import requests\n",
    "import io\n",
    "import time\n",
    "import pandas as pd\n",
    "import os\n",
    "from os import listdir\n",
    "import getpass\n",
    "import sys \n",
    "from os.path import isfile, join,getmtime\n",
    "import json\n",
    "import urllib\n",
    "import urllib.parse\n",
    "import urllib.request\n",
    "\n",
    "import numpy as np\n",
    "import matplotlib as plt\n",
    "import seaborn as sns\n",
    "\n",
    "import psycopg2 \n",
    "import io\n",
    "import sql "
   ]
  },
  {
   "cell_type": "markdown",
   "metadata": {},
   "source": [
    "# Generate Hash Value From Domain / URL / File EXE or Others"
   ]
  },
  {
   "cell_type": "code",
   "execution_count": 2,
   "metadata": {},
   "outputs": [
    {
     "name": "stdout",
     "output_type": "stream",
     "text": [
      "The hexadecimal equivalent of hash is : aa214a637cbc230165d650afc69dac2e\n"
     ]
    }
   ],
   "source": [
    "import hashlib \n",
    "\n",
    "# initializing string \n",
    "str2hash = \"www.facebook.com/dfh/user\"\n",
    " \n",
    "result = hashlib.md5(str2hash.encode()) \n",
    "\n",
    "# printing the equivalent hexadecimal value. \n",
    "print(\"The hexadecimal equivalent of hash is : \", end =\"\") \n",
    "print(result.hexdigest()) "
   ]
  },
  {
   "cell_type": "code",
   "execution_count": null,
   "metadata": {},
   "outputs": [],
   "source": []
  }
 ],
 "metadata": {
  "kernelspec": {
   "display_name": "Python 3",
   "language": "python",
   "name": "python3"
  },
  "language_info": {
   "codemirror_mode": {
    "name": "ipython",
    "version": 3
   },
   "file_extension": ".py",
   "mimetype": "text/x-python",
   "name": "python",
   "nbconvert_exporter": "python",
   "pygments_lexer": "ipython3",
   "version": "3.7.4"
  }
 },
 "nbformat": 4,
 "nbformat_minor": 2
}
